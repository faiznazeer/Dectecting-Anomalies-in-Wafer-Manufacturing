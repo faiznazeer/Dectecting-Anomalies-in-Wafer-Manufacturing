{
 "cells": [
  {
   "cell_type": "markdown",
   "metadata": {},
   "source": [
    "## Importing libraries"
   ]
  },
  {
   "cell_type": "markdown",
   "metadata": {},
   "source": [
    "Here we import the necessary libraries for the required program"
   ]
  },
  {
   "cell_type": "code",
   "execution_count": null,
   "metadata": {},
   "outputs": [],
   "source": [
    "import numpy as np \n",
    "import pandas as pd\n",
    "\n",
    "import matplotlib.pyplot as plt\n",
    "%matplotlib inline\n",
    "from mpl_toolkits.mplot3d import Axes3D\n",
    "import seaborn as sns\n",
    "\n",
    "from sklearn.metrics import roc_auc_score\n",
    "\n",
    "from imblearn.over_sampling import SMOTE\n",
    "from sklearn.model_selection import train_test_split\n",
    "\n",
    "from sklearn.decomposition import PCA\n",
    "from sklearn.manifold import TSNE"
   ]
  },
  {
   "cell_type": "markdown",
   "metadata": {},
   "source": [
    "## Data Analysis and Data processing"
   ]
  },
  {
   "cell_type": "code",
   "execution_count": 2,
   "metadata": {
    "scrolled": true
   },
   "outputs": [
    {
     "data": {
      "text/html": [
       "<div>\n",
       "<style scoped>\n",
       "    .dataframe tbody tr th:only-of-type {\n",
       "        vertical-align: middle;\n",
       "    }\n",
       "\n",
       "    .dataframe tbody tr th {\n",
       "        vertical-align: top;\n",
       "    }\n",
       "\n",
       "    .dataframe thead th {\n",
       "        text-align: right;\n",
       "    }\n",
       "</style>\n",
       "<table border=\"1\" class=\"dataframe\">\n",
       "  <thead>\n",
       "    <tr style=\"text-align: right;\">\n",
       "      <th></th>\n",
       "      <th>feature_1</th>\n",
       "      <th>feature_2</th>\n",
       "      <th>feature_3</th>\n",
       "      <th>feature_4</th>\n",
       "      <th>feature_5</th>\n",
       "      <th>feature_6</th>\n",
       "      <th>feature_7</th>\n",
       "      <th>feature_8</th>\n",
       "      <th>feature_9</th>\n",
       "      <th>feature_10</th>\n",
       "      <th>...</th>\n",
       "      <th>feature_1550</th>\n",
       "      <th>feature_1551</th>\n",
       "      <th>feature_1552</th>\n",
       "      <th>feature_1553</th>\n",
       "      <th>feature_1554</th>\n",
       "      <th>feature_1555</th>\n",
       "      <th>feature_1556</th>\n",
       "      <th>feature_1557</th>\n",
       "      <th>feature_1558</th>\n",
       "      <th>Class</th>\n",
       "    </tr>\n",
       "  </thead>\n",
       "  <tbody>\n",
       "    <tr>\n",
       "      <th>0</th>\n",
       "      <td>100</td>\n",
       "      <td>160</td>\n",
       "      <td>1.6000</td>\n",
       "      <td>0</td>\n",
       "      <td>0</td>\n",
       "      <td>0</td>\n",
       "      <td>0</td>\n",
       "      <td>0</td>\n",
       "      <td>0</td>\n",
       "      <td>0</td>\n",
       "      <td>...</td>\n",
       "      <td>0</td>\n",
       "      <td>0</td>\n",
       "      <td>0</td>\n",
       "      <td>0</td>\n",
       "      <td>0</td>\n",
       "      <td>0</td>\n",
       "      <td>0</td>\n",
       "      <td>0</td>\n",
       "      <td>0</td>\n",
       "      <td>0</td>\n",
       "    </tr>\n",
       "    <tr>\n",
       "      <th>1</th>\n",
       "      <td>20</td>\n",
       "      <td>83</td>\n",
       "      <td>4.1500</td>\n",
       "      <td>1</td>\n",
       "      <td>0</td>\n",
       "      <td>0</td>\n",
       "      <td>0</td>\n",
       "      <td>0</td>\n",
       "      <td>0</td>\n",
       "      <td>1</td>\n",
       "      <td>...</td>\n",
       "      <td>0</td>\n",
       "      <td>0</td>\n",
       "      <td>0</td>\n",
       "      <td>0</td>\n",
       "      <td>0</td>\n",
       "      <td>1</td>\n",
       "      <td>0</td>\n",
       "      <td>0</td>\n",
       "      <td>0</td>\n",
       "      <td>0</td>\n",
       "    </tr>\n",
       "    <tr>\n",
       "      <th>2</th>\n",
       "      <td>99</td>\n",
       "      <td>150</td>\n",
       "      <td>1.5151</td>\n",
       "      <td>1</td>\n",
       "      <td>0</td>\n",
       "      <td>0</td>\n",
       "      <td>0</td>\n",
       "      <td>0</td>\n",
       "      <td>0</td>\n",
       "      <td>0</td>\n",
       "      <td>...</td>\n",
       "      <td>0</td>\n",
       "      <td>0</td>\n",
       "      <td>0</td>\n",
       "      <td>0</td>\n",
       "      <td>0</td>\n",
       "      <td>0</td>\n",
       "      <td>0</td>\n",
       "      <td>0</td>\n",
       "      <td>0</td>\n",
       "      <td>0</td>\n",
       "    </tr>\n",
       "    <tr>\n",
       "      <th>3</th>\n",
       "      <td>40</td>\n",
       "      <td>40</td>\n",
       "      <td>1.0000</td>\n",
       "      <td>0</td>\n",
       "      <td>0</td>\n",
       "      <td>0</td>\n",
       "      <td>0</td>\n",
       "      <td>0</td>\n",
       "      <td>0</td>\n",
       "      <td>0</td>\n",
       "      <td>...</td>\n",
       "      <td>0</td>\n",
       "      <td>0</td>\n",
       "      <td>0</td>\n",
       "      <td>0</td>\n",
       "      <td>0</td>\n",
       "      <td>0</td>\n",
       "      <td>0</td>\n",
       "      <td>0</td>\n",
       "      <td>0</td>\n",
       "      <td>0</td>\n",
       "    </tr>\n",
       "    <tr>\n",
       "      <th>4</th>\n",
       "      <td>12</td>\n",
       "      <td>234</td>\n",
       "      <td>19.5000</td>\n",
       "      <td>1</td>\n",
       "      <td>0</td>\n",
       "      <td>0</td>\n",
       "      <td>0</td>\n",
       "      <td>0</td>\n",
       "      <td>0</td>\n",
       "      <td>0</td>\n",
       "      <td>...</td>\n",
       "      <td>0</td>\n",
       "      <td>0</td>\n",
       "      <td>0</td>\n",
       "      <td>0</td>\n",
       "      <td>0</td>\n",
       "      <td>0</td>\n",
       "      <td>0</td>\n",
       "      <td>0</td>\n",
       "      <td>0</td>\n",
       "      <td>0</td>\n",
       "    </tr>\n",
       "  </tbody>\n",
       "</table>\n",
       "<p>5 rows × 1559 columns</p>\n",
       "</div>"
      ],
      "text/plain": [
       "   feature_1  feature_2  feature_3  feature_4  feature_5  feature_6  \\\n",
       "0        100        160     1.6000          0          0          0   \n",
       "1         20         83     4.1500          1          0          0   \n",
       "2         99        150     1.5151          1          0          0   \n",
       "3         40         40     1.0000          0          0          0   \n",
       "4         12        234    19.5000          1          0          0   \n",
       "\n",
       "   feature_7  feature_8  feature_9  feature_10  ...  feature_1550  \\\n",
       "0          0          0          0           0  ...             0   \n",
       "1          0          0          0           1  ...             0   \n",
       "2          0          0          0           0  ...             0   \n",
       "3          0          0          0           0  ...             0   \n",
       "4          0          0          0           0  ...             0   \n",
       "\n",
       "   feature_1551  feature_1552  feature_1553  feature_1554  feature_1555  \\\n",
       "0             0             0             0             0             0   \n",
       "1             0             0             0             0             1   \n",
       "2             0             0             0             0             0   \n",
       "3             0             0             0             0             0   \n",
       "4             0             0             0             0             0   \n",
       "\n",
       "   feature_1556  feature_1557  feature_1558  Class  \n",
       "0             0             0             0      0  \n",
       "1             0             0             0      0  \n",
       "2             0             0             0      0  \n",
       "3             0             0             0      0  \n",
       "4             0             0             0      0  \n",
       "\n",
       "[5 rows x 1559 columns]"
      ]
     },
     "execution_count": 2,
     "metadata": {},
     "output_type": "execute_result"
    }
   ],
   "source": [
    "train = pd.read_csv('Train/Train.csv')\n",
    "train.head()"
   ]
  },
  {
   "cell_type": "markdown",
   "metadata": {},
   "source": [
    "   "
   ]
  },
  {
   "cell_type": "markdown",
   "metadata": {},
   "source": [
    "Let's check the size of the dataframe"
   ]
  },
  {
   "cell_type": "code",
   "execution_count": 3,
   "metadata": {},
   "outputs": [
    {
     "name": "stdout",
     "output_type": "stream",
     "text": [
      "<class 'pandas.core.frame.DataFrame'>\n",
      "RangeIndex: 1763 entries, 0 to 1762\n",
      "Columns: 1559 entries, feature_1 to Class\n",
      "dtypes: float64(1), int64(1558)\n",
      "memory usage: 21.0 MB\n"
     ]
    }
   ],
   "source": [
    "train.info()"
   ]
  },
  {
   "cell_type": "markdown",
   "metadata": {},
   "source": [
    "As we can see from the set, we should try to minimize the dimensionality. \n",
    "So let us first drop the duplicate columns if any"
   ]
  },
  {
   "cell_type": "code",
   "execution_count": 4,
   "metadata": {},
   "outputs": [],
   "source": [
    "duplicate = train.drop('Class',axis = 1).T.drop_duplicates().T.columns\n",
    "Class = train['Class']\n",
    "train = train[duplicate]\n",
    "train['Class'] = Class"
   ]
  },
  {
   "cell_type": "code",
   "execution_count": 5,
   "metadata": {},
   "outputs": [
    {
     "name": "stdout",
     "output_type": "stream",
     "text": [
      "<class 'pandas.core.frame.DataFrame'>\n",
      "RangeIndex: 1763 entries, 0 to 1762\n",
      "Columns: 730 entries, feature_1 to Class\n",
      "dtypes: float64(1), int64(729)\n",
      "memory usage: 9.8 MB\n"
     ]
    }
   ],
   "source": [
    "train.info()"
   ]
  },
  {
   "cell_type": "markdown",
   "metadata": {},
   "source": [
    "The number of columns have reduced from 1559 to 730. i.e. more than half of the columns were duplicates"
   ]
  },
  {
   "cell_type": "code",
   "execution_count": 6,
   "metadata": {},
   "outputs": [
    {
     "data": {
      "text/html": [
       "<div>\n",
       "<style scoped>\n",
       "    .dataframe tbody tr th:only-of-type {\n",
       "        vertical-align: middle;\n",
       "    }\n",
       "\n",
       "    .dataframe tbody tr th {\n",
       "        vertical-align: top;\n",
       "    }\n",
       "\n",
       "    .dataframe thead th {\n",
       "        text-align: right;\n",
       "    }\n",
       "</style>\n",
       "<table border=\"1\" class=\"dataframe\">\n",
       "  <thead>\n",
       "    <tr style=\"text-align: right;\">\n",
       "      <th></th>\n",
       "      <th>feature_1</th>\n",
       "      <th>feature_2</th>\n",
       "      <th>feature_3</th>\n",
       "      <th>feature_4</th>\n",
       "      <th>feature_5</th>\n",
       "      <th>feature_6</th>\n",
       "      <th>feature_7</th>\n",
       "      <th>feature_8</th>\n",
       "      <th>feature_9</th>\n",
       "      <th>feature_10</th>\n",
       "      <th>...</th>\n",
       "      <th>feature_1549</th>\n",
       "      <th>feature_1550</th>\n",
       "      <th>feature_1551</th>\n",
       "      <th>feature_1552</th>\n",
       "      <th>feature_1553</th>\n",
       "      <th>feature_1554</th>\n",
       "      <th>feature_1555</th>\n",
       "      <th>feature_1557</th>\n",
       "      <th>feature_1558</th>\n",
       "      <th>Class</th>\n",
       "    </tr>\n",
       "  </thead>\n",
       "  <tbody>\n",
       "    <tr>\n",
       "      <th>0</th>\n",
       "      <td>100</td>\n",
       "      <td>160</td>\n",
       "      <td>1.6000</td>\n",
       "      <td>0</td>\n",
       "      <td>0</td>\n",
       "      <td>0</td>\n",
       "      <td>0</td>\n",
       "      <td>0</td>\n",
       "      <td>0</td>\n",
       "      <td>0</td>\n",
       "      <td>...</td>\n",
       "      <td>0</td>\n",
       "      <td>0</td>\n",
       "      <td>0</td>\n",
       "      <td>0</td>\n",
       "      <td>0</td>\n",
       "      <td>0</td>\n",
       "      <td>0</td>\n",
       "      <td>0</td>\n",
       "      <td>0</td>\n",
       "      <td>0</td>\n",
       "    </tr>\n",
       "    <tr>\n",
       "      <th>1</th>\n",
       "      <td>20</td>\n",
       "      <td>83</td>\n",
       "      <td>4.1500</td>\n",
       "      <td>1</td>\n",
       "      <td>0</td>\n",
       "      <td>0</td>\n",
       "      <td>0</td>\n",
       "      <td>0</td>\n",
       "      <td>0</td>\n",
       "      <td>1</td>\n",
       "      <td>...</td>\n",
       "      <td>0</td>\n",
       "      <td>0</td>\n",
       "      <td>0</td>\n",
       "      <td>0</td>\n",
       "      <td>0</td>\n",
       "      <td>0</td>\n",
       "      <td>1</td>\n",
       "      <td>0</td>\n",
       "      <td>0</td>\n",
       "      <td>0</td>\n",
       "    </tr>\n",
       "    <tr>\n",
       "      <th>2</th>\n",
       "      <td>99</td>\n",
       "      <td>150</td>\n",
       "      <td>1.5151</td>\n",
       "      <td>1</td>\n",
       "      <td>0</td>\n",
       "      <td>0</td>\n",
       "      <td>0</td>\n",
       "      <td>0</td>\n",
       "      <td>0</td>\n",
       "      <td>0</td>\n",
       "      <td>...</td>\n",
       "      <td>0</td>\n",
       "      <td>0</td>\n",
       "      <td>0</td>\n",
       "      <td>0</td>\n",
       "      <td>0</td>\n",
       "      <td>0</td>\n",
       "      <td>0</td>\n",
       "      <td>0</td>\n",
       "      <td>0</td>\n",
       "      <td>0</td>\n",
       "    </tr>\n",
       "    <tr>\n",
       "      <th>3</th>\n",
       "      <td>40</td>\n",
       "      <td>40</td>\n",
       "      <td>1.0000</td>\n",
       "      <td>0</td>\n",
       "      <td>0</td>\n",
       "      <td>0</td>\n",
       "      <td>0</td>\n",
       "      <td>0</td>\n",
       "      <td>0</td>\n",
       "      <td>0</td>\n",
       "      <td>...</td>\n",
       "      <td>0</td>\n",
       "      <td>0</td>\n",
       "      <td>0</td>\n",
       "      <td>0</td>\n",
       "      <td>0</td>\n",
       "      <td>0</td>\n",
       "      <td>0</td>\n",
       "      <td>0</td>\n",
       "      <td>0</td>\n",
       "      <td>0</td>\n",
       "    </tr>\n",
       "    <tr>\n",
       "      <th>4</th>\n",
       "      <td>12</td>\n",
       "      <td>234</td>\n",
       "      <td>19.5000</td>\n",
       "      <td>1</td>\n",
       "      <td>0</td>\n",
       "      <td>0</td>\n",
       "      <td>0</td>\n",
       "      <td>0</td>\n",
       "      <td>0</td>\n",
       "      <td>0</td>\n",
       "      <td>...</td>\n",
       "      <td>0</td>\n",
       "      <td>0</td>\n",
       "      <td>0</td>\n",
       "      <td>0</td>\n",
       "      <td>0</td>\n",
       "      <td>0</td>\n",
       "      <td>0</td>\n",
       "      <td>0</td>\n",
       "      <td>0</td>\n",
       "      <td>0</td>\n",
       "    </tr>\n",
       "  </tbody>\n",
       "</table>\n",
       "<p>5 rows × 730 columns</p>\n",
       "</div>"
      ],
      "text/plain": [
       "   feature_1  feature_2  feature_3  feature_4  feature_5  feature_6  \\\n",
       "0        100        160     1.6000          0          0          0   \n",
       "1         20         83     4.1500          1          0          0   \n",
       "2         99        150     1.5151          1          0          0   \n",
       "3         40         40     1.0000          0          0          0   \n",
       "4         12        234    19.5000          1          0          0   \n",
       "\n",
       "   feature_7  feature_8  feature_9  feature_10  ...  feature_1549  \\\n",
       "0          0          0          0           0  ...             0   \n",
       "1          0          0          0           1  ...             0   \n",
       "2          0          0          0           0  ...             0   \n",
       "3          0          0          0           0  ...             0   \n",
       "4          0          0          0           0  ...             0   \n",
       "\n",
       "   feature_1550  feature_1551  feature_1552  feature_1553  feature_1554  \\\n",
       "0             0             0             0             0             0   \n",
       "1             0             0             0             0             0   \n",
       "2             0             0             0             0             0   \n",
       "3             0             0             0             0             0   \n",
       "4             0             0             0             0             0   \n",
       "\n",
       "   feature_1555  feature_1557  feature_1558  Class  \n",
       "0             0             0             0      0  \n",
       "1             1             0             0      0  \n",
       "2             0             0             0      0  \n",
       "3             0             0             0      0  \n",
       "4             0             0             0      0  \n",
       "\n",
       "[5 rows x 730 columns]"
      ]
     },
     "execution_count": 6,
     "metadata": {},
     "output_type": "execute_result"
    }
   ],
   "source": [
    "train.head()"
   ]
  },
  {
   "cell_type": "markdown",
   "metadata": {},
   "source": [
    "  "
   ]
  },
  {
   "cell_type": "markdown",
   "metadata": {},
   "source": [
    "\n",
    "From further inspection, we can see that feature_1, feature_2, feature_3 are numerical while the rest are binary."
   ]
  },
  {
   "cell_type": "markdown",
   "metadata": {},
   "source": [
    "So, let us count the number of values in each range in these 3 features and plot histogram based on that."
   ]
  },
  {
   "cell_type": "code",
   "execution_count": 7,
   "metadata": {
    "scrolled": false
   },
   "outputs": [
    {
     "data": {
      "image/png": "[encoded data removed]",
      "text/plain": [
       "<Figure size 432x288 with 1 Axes>"
      ]
     },
     "metadata": {
      "needs_background": "light"
     },
     "output_type": "display_data"
    },
    {
     "data": {
      "image/png": "[encoded data removed]",
      "text/plain": [
       "<Figure size 432x288 with 1 Axes>"
      ]
     },
     "metadata": {
      "needs_background": "light"
     },
     "output_type": "display_data"
    },
    {
     "data": {
      "image/png": "[encoded data removed]",
      "text/plain": [
       "<Figure size 432x288 with 1 Axes>"
      ]
     },
     "metadata": {
      "needs_background": "light"
     },
     "output_type": "display_data"
    }
   ],
   "source": [
    "for i in train.columns[:3]:\n",
    "    plt.hist(train[i])\n",
    "    plt.title(i)\n",
    "    plt.show()"
   ]
  },
  {
   "cell_type": "markdown",
   "metadata": {},
   "source": [
    "  "
   ]
  },
  {
   "cell_type": "markdown",
   "metadata": {},
   "source": [
    "Let us make a boxplot of these 3 features to understand them better. "
   ]
  },
  {
   "cell_type": "code",
   "execution_count": 8,
   "metadata": {},
   "outputs": [
    {
     "data": {
      "image/png": "[encoded data removed]",
      "text/plain": [
       "<Figure size 432x288 with 1 Axes>"
      ]
     },
     "metadata": {},
     "output_type": "display_data"
    }
   ],
   "source": [
    "sns.set(style=\"whitegrid\")\n",
    "ax = sns.boxplot(x=\"Class\", y=\"feature_1\",data=train)"
   ]
  },
  {
   "cell_type": "code",
   "execution_count": 9,
   "metadata": {},
   "outputs": [
    {
     "data": {
      "image/png": "[encoded data removed]",
      "text/plain": [
       "<Figure size 432x288 with 1 Axes>"
      ]
     },
     "metadata": {},
     "output_type": "display_data"
    }
   ],
   "source": [
    "ax = sns.boxplot(x=\"Class\", y=\"feature_2\",data = train)"
   ]
  },
  {
   "cell_type": "code",
   "execution_count": 10,
   "metadata": {},
   "outputs": [
    {
     "data": {
      "image/png": "[encoded data removed]",
      "text/plain": [
       "<Figure size 432x288 with 1 Axes>"
      ]
     },
     "metadata": {},
     "output_type": "display_data"
    }
   ],
   "source": [
    "ax = sns.boxplot(x=\"Class\", y=\"feature_3\",data = train)"
   ]
  },
  {
   "cell_type": "code",
   "execution_count": 11,
   "metadata": {},
   "outputs": [
    {
     "data": {
      "text/html": [
       "<div>\n",
       "<style scoped>\n",
       "    .dataframe tbody tr th:only-of-type {\n",
       "        vertical-align: middle;\n",
       "    }\n",
       "\n",
       "    .dataframe tbody tr th {\n",
       "        vertical-align: top;\n",
       "    }\n",
       "\n",
       "    .dataframe thead th {\n",
       "        text-align: right;\n",
       "    }\n",
       "</style>\n",
       "<table border=\"1\" class=\"dataframe\">\n",
       "  <thead>\n",
       "    <tr style=\"text-align: right;\">\n",
       "      <th></th>\n",
       "      <th>Class</th>\n",
       "    </tr>\n",
       "  </thead>\n",
       "  <tbody>\n",
       "    <tr>\n",
       "      <th>feature_1</th>\n",
       "      <td>0.006458</td>\n",
       "    </tr>\n",
       "    <tr>\n",
       "      <th>feature_2</th>\n",
       "      <td>0.330720</td>\n",
       "    </tr>\n",
       "    <tr>\n",
       "      <th>feature_3</th>\n",
       "      <td>0.108288</td>\n",
       "    </tr>\n",
       "    <tr>\n",
       "      <th>Class</th>\n",
       "      <td>1.000000</td>\n",
       "    </tr>\n",
       "  </tbody>\n",
       "</table>\n",
       "</div>"
      ],
      "text/plain": [
       "              Class\n",
       "feature_1  0.006458\n",
       "feature_2  0.330720\n",
       "feature_3  0.108288\n",
       "Class      1.000000"
      ]
     },
     "execution_count": 11,
     "metadata": {},
     "output_type": "execute_result"
    }
   ],
   "source": [
    "pd.DataFrame(train[['feature_1','feature_2','feature_3','Class']].corr()['Class'])"
   ]
  },
  {
   "cell_type": "markdown",
   "metadata": {},
   "source": [
    "From above, we can see that these 3 features are really important for the model. "
   ]
  },
  {
   "cell_type": "markdown",
   "metadata": {},
   "source": [
    "   "
   ]
  },
  {
   "cell_type": "markdown",
   "metadata": {},
   "source": [
    "Let us try to drop the columns that have more than 1761 zeroes (out of a possible 1763) since it won't make much of a difference in having those columns"
   ]
  },
  {
   "cell_type": "code",
   "execution_count": 12,
   "metadata": {},
   "outputs": [
    {
     "data": {
      "text/html": [
       "<div>\n",
       "<style scoped>\n",
       "    .dataframe tbody tr th:only-of-type {\n",
       "        vertical-align: middle;\n",
       "    }\n",
       "\n",
       "    .dataframe tbody tr th {\n",
       "        vertical-align: top;\n",
       "    }\n",
       "\n",
       "    .dataframe thead th {\n",
       "        text-align: right;\n",
       "    }\n",
       "</style>\n",
       "<table border=\"1\" class=\"dataframe\">\n",
       "  <thead>\n",
       "    <tr style=\"text-align: right;\">\n",
       "      <th></th>\n",
       "      <th>0</th>\n",
       "    </tr>\n",
       "  </thead>\n",
       "  <tbody>\n",
       "    <tr>\n",
       "      <th>feature_1</th>\n",
       "      <td>0</td>\n",
       "    </tr>\n",
       "    <tr>\n",
       "      <th>feature_2</th>\n",
       "      <td>0</td>\n",
       "    </tr>\n",
       "    <tr>\n",
       "      <th>feature_3</th>\n",
       "      <td>0</td>\n",
       "    </tr>\n",
       "    <tr>\n",
       "      <th>feature_4</th>\n",
       "      <td>486</td>\n",
       "    </tr>\n",
       "    <tr>\n",
       "      <th>feature_5</th>\n",
       "      <td>1758</td>\n",
       "    </tr>\n",
       "    <tr>\n",
       "      <th>...</th>\n",
       "      <td>...</td>\n",
       "    </tr>\n",
       "    <tr>\n",
       "      <th>feature_1554</th>\n",
       "      <td>1756</td>\n",
       "    </tr>\n",
       "    <tr>\n",
       "      <th>feature_1555</th>\n",
       "      <td>1736</td>\n",
       "    </tr>\n",
       "    <tr>\n",
       "      <th>feature_1557</th>\n",
       "      <td>1746</td>\n",
       "    </tr>\n",
       "    <tr>\n",
       "      <th>feature_1558</th>\n",
       "      <td>1761</td>\n",
       "    </tr>\n",
       "    <tr>\n",
       "      <th>Class</th>\n",
       "      <td>1620</td>\n",
       "    </tr>\n",
       "  </tbody>\n",
       "</table>\n",
       "<p>730 rows × 1 columns</p>\n",
       "</div>"
      ],
      "text/plain": [
       "                 0\n",
       "feature_1        0\n",
       "feature_2        0\n",
       "feature_3        0\n",
       "feature_4      486\n",
       "feature_5     1758\n",
       "...            ...\n",
       "feature_1554  1756\n",
       "feature_1555  1736\n",
       "feature_1557  1746\n",
       "feature_1558  1761\n",
       "Class         1620\n",
       "\n",
       "[730 rows x 1 columns]"
      ]
     },
     "execution_count": 12,
     "metadata": {},
     "output_type": "execute_result"
    }
   ],
   "source": [
    "zero = pd.DataFrame((train == 0).astype(int).sum(axis=0))\n",
    "zero"
   ]
  },
  {
   "cell_type": "code",
   "execution_count": 13,
   "metadata": {},
   "outputs": [
    {
     "name": "stdout",
     "output_type": "stream",
     "text": [
      "<class 'pandas.core.frame.DataFrame'>\n",
      "RangeIndex: 1763 entries, 0 to 1762\n",
      "Columns: 723 entries, feature_1 to Class\n",
      "dtypes: float64(1), int64(722)\n",
      "memory usage: 9.7 MB\n"
     ]
    }
   ],
   "source": [
    "all_zero = zero[zero[0]>1761].index\n",
    "train.drop(all_zero,axis=1,inplace=True)\n",
    "train.info()"
   ]
  },
  {
   "cell_type": "markdown",
   "metadata": {},
   "source": [
    "As seen from above, we were able to drop 7 more unnecessary features"
   ]
  },
  {
   "cell_type": "markdown",
   "metadata": {},
   "source": [
    "   "
   ]
  },
  {
   "cell_type": "markdown",
   "metadata": {},
   "source": [
    "Let us plot the values of the datas that we have."
   ]
  },
  {
   "cell_type": "code",
   "execution_count": 14,
   "metadata": {},
   "outputs": [
    {
     "data": {
      "text/plain": [
       "(array([1620.,    0.,    0.,    0.,    0.,    0.,    0.,    0.,    0.,\n",
       "         143.]),\n",
       " array([0. , 0.1, 0.2, 0.3, 0.4, 0.5, 0.6, 0.7, 0.8, 0.9, 1. ]),\n",
       " <a list of 10 Patch objects>)"
      ]
     },
     "execution_count": 14,
     "metadata": {},
     "output_type": "execute_result"
    },
    {
     "data": {
      "image/png": "[encoded data removed]",
      "text/plain": [
       "<Figure size 432x288 with 1 Axes>"
      ]
     },
     "metadata": {},
     "output_type": "display_data"
    }
   ],
   "source": [
    "plt.hist(train[\"Class\"])"
   ]
  },
  {
   "cell_type": "code",
   "execution_count": 15,
   "metadata": {},
   "outputs": [
    {
     "data": {
      "text/plain": [
       "0    1620\n",
       "1     143\n",
       "Name: Class, dtype: int64"
      ]
     },
     "execution_count": 15,
     "metadata": {},
     "output_type": "execute_result"
    }
   ],
   "source": [
    "train[\"Class\"].value_counts()"
   ]
  },
  {
   "cell_type": "markdown",
   "metadata": {},
   "source": [
    "  "
   ]
  },
  {
   "cell_type": "markdown",
   "metadata": {},
   "source": [
    "As we can see, the number of anomalies(1) are way less compared to the normal(0). "
   ]
  },
  {
   "cell_type": "markdown",
   "metadata": {},
   "source": [
    "Hence, we need to implement data resampling process. In this process, we try to create new values in the anomalies while try to delete some values from the normal ones."
   ]
  },
  {
   "cell_type": "markdown",
   "metadata": {},
   "source": [
    "## Data resampling"
   ]
  },
  {
   "cell_type": "code",
   "execution_count": 16,
   "metadata": {},
   "outputs": [],
   "source": [
    "Sm = SMOTE()\n",
    "X = train.drop(\"Class\", axis = 1)\n",
    "y = train[\"Class\"]"
   ]
  },
  {
   "cell_type": "code",
   "execution_count": 17,
   "metadata": {},
   "outputs": [
    {
     "data": {
      "text/plain": [
       "((1586, 722), (177, 722), (1586,), (177,))"
      ]
     },
     "execution_count": 17,
     "metadata": {},
     "output_type": "execute_result"
    }
   ],
   "source": [
    "#Splitting the set into training and testing\n",
    "X_train, X_test, y_train, y_test = train_test_split(X, y, test_size = 0.1, stratify = y)\n",
    "X_train.shape, X_test.shape, y_train.shape, y_test.shape"
   ]
  },
  {
   "cell_type": "markdown",
   "metadata": {},
   "source": [
    "  "
   ]
  },
  {
   "cell_type": "markdown",
   "metadata": {},
   "source": [
    "Let us do resampling of training set data"
   ]
  },
  {
   "cell_type": "code",
   "execution_count": 18,
   "metadata": {},
   "outputs": [
    {
     "data": {
      "text/plain": [
       "((2914, 722),\n",
       " (2914,),\n",
       " 1    1457\n",
       " 0    1457\n",
       " Name: Class, dtype: int64)"
      ]
     },
     "execution_count": 18,
     "metadata": {},
     "output_type": "execute_result"
    }
   ],
   "source": [
    "x_train, y_train = Sm.fit_resample(X_train, y_train)\n",
    "x_train.shape, y_train.shape, y_train.value_counts()"
   ]
  },
  {
   "cell_type": "code",
   "execution_count": 19,
   "metadata": {},
   "outputs": [],
   "source": [
    "x_train_re, x_test_re, y_train_re, y_test_re = train_test_split(x_train, y_train, test_size = 0.1, stratify = y_train)"
   ]
  },
  {
   "cell_type": "code",
   "execution_count": 20,
   "metadata": {},
   "outputs": [
    {
     "data": {
      "text/plain": [
       "1    1311\n",
       "0    1311\n",
       "Name: Class, dtype: int64"
      ]
     },
     "execution_count": 20,
     "metadata": {},
     "output_type": "execute_result"
    }
   ],
   "source": [
    "y_train_re.value_counts()"
   ]
  },
  {
   "cell_type": "markdown",
   "metadata": {},
   "source": [
    "## PCA for dimensionality reduction"
   ]
  },
  {
   "cell_type": "markdown",
   "metadata": {},
   "source": [
    "We can see that, even after dropping features, we still have 723 features which is a lot."
   ]
  },
  {
   "cell_type": "markdown",
   "metadata": {},
   "source": [
    "We will try to reduce the features to 3 components using Principal Component Analysis (PCA)"
   ]
  },
  {
   "cell_type": "code",
   "execution_count": 21,
   "metadata": {},
   "outputs": [],
   "source": [
    "pca = PCA(n_components = 3)"
   ]
  },
  {
   "cell_type": "code",
   "execution_count": 22,
   "metadata": {},
   "outputs": [],
   "source": [
    "pca_result = pca.fit_transform(X)"
   ]
  },
  {
   "cell_type": "code",
   "execution_count": 23,
   "metadata": {},
   "outputs": [
    {
     "name": "stdout",
     "output_type": "stream",
     "text": [
      "[8.66966999e-01 1.32106927e-01 5.72958639e-04]\n"
     ]
    }
   ],
   "source": [
    "print(pca.explained_variance_ratio_)"
   ]
  },
  {
   "cell_type": "code",
   "execution_count": 24,
   "metadata": {},
   "outputs": [],
   "source": [
    "train_copy = train.copy()\n",
    "train_copy['pca-one'] = pca_result[:,0]\n",
    "train_copy['pca-two'] = pca_result[:,1] \n",
    "train_copy['pca-three'] = pca_result[:,2]"
   ]
  },
  {
   "cell_type": "markdown",
   "metadata": {},
   "source": [
    "  "
   ]
  },
  {
   "cell_type": "markdown",
   "metadata": {},
   "source": [
    "Let us try to plot the first two components on a 2D plane"
   ]
  },
  {
   "cell_type": "code",
   "execution_count": 25,
   "metadata": {},
   "outputs": [
    {
     "data": {
      "text/plain": [
       "<matplotlib.axes._subplots.AxesSubplot at 0x1ca2a56a3a0>"
      ]
     },
     "execution_count": 25,
     "metadata": {},
     "output_type": "execute_result"
    },
    {
     "data": {
      "image/png": "[encoded data removed]",
      "text/plain": [
       "<Figure size 720x576 with 1 Axes>"
      ]
     },
     "metadata": {},
     "output_type": "display_data"
    }
   ],
   "source": [
    "rndperm = np.random.permutation(train_copy.shape[0])\n",
    "plt.figure(figsize=(10,8))\n",
    "sns.scatterplot(\n",
    "    x=\"pca-one\", y=\"pca-two\",\n",
    "    hue=\"Class\",\n",
    "    palette=sns.color_palette(\"hls\", 2),\n",
    "    data= train_copy.loc[rndperm,:],\n",
    "    legend=\"full\",\n",
    "    alpha=0.3\n",
    ")"
   ]
  },
  {
   "cell_type": "markdown",
   "metadata": {},
   "source": [
    "  "
   ]
  },
  {
   "cell_type": "markdown",
   "metadata": {},
   "source": [
    "Let us trry to plot them on a 3 dimensional axis"
   ]
  },
  {
   "cell_type": "code",
   "execution_count": 27,
   "metadata": {},
   "outputs": [
    {
     "data": {
      "image/png": "[encoded data removed]",
      "text/plain": [
       "<Figure size 720x576 with 1 Axes>"
      ]
     },
     "metadata": {},
     "output_type": "display_data"
    }
   ],
   "source": [
    "ax = plt.figure(figsize=(10,8)).gca(projection='3d')\n",
    "ax.scatter(\n",
    "    xs=train_copy.loc[rndperm,:][\"pca-one\"], \n",
    "    ys=train_copy.loc[rndperm,:][\"pca-two\"], \n",
    "    zs=train_copy.loc[rndperm,:][\"pca-three\"], \n",
    "    c=train_copy.loc[rndperm,:][\"Class\"], \n",
    "    cmap='tab10'\n",
    ")\n",
    "ax.set_xlabel('pca-one')\n",
    "ax.set_ylabel('pca-two')\n",
    "ax.set_zlabel('pca-three')\n",
    "plt.show()"
   ]
  },
  {
   "cell_type": "markdown",
   "metadata": {},
   "source": [
    "## Model building"
   ]
  },
  {
   "cell_type": "markdown",
   "metadata": {},
   "source": [
    "Hyperparameter tuning is very important here.\n",
    "\n",
    "scale_pos_weight : To counter the imbalanced nature of the dataset\n",
    "\n",
    "colsample_bytree, subsample, reg_lambda : To counter overfitting"
   ]
  },
  {
   "cell_type": "code",
   "execution_count": 28,
   "metadata": {},
   "outputs": [],
   "source": [
    "from xgboost import XGBClassifier"
   ]
  },
  {
   "cell_type": "code",
   "execution_count": 29,
   "metadata": {},
   "outputs": [],
   "source": [
    "model = XGBClassifier(silent=True,\n",
    "                      booster = 'gbtree',\n",
    "                      scale_pos_weight=5,\n",
    "                      learning_rate=0.01,  \n",
    "                      colsample_bytree = 0.7,\n",
    "                      subsample = 0.5,\n",
    "                      max_delta_step = 3,\n",
    "                      reg_lambda = 2,\n",
    "                      objective='binary:logistic',\n",
    "                      n_estimators=818, \n",
    "                      max_depth=8,\n",
    "                     )"
   ]
  },
  {
   "cell_type": "code",
   "execution_count": 31,
   "metadata": {},
   "outputs": [],
   "source": [
    "eval_set = [(x_test_re, y_test_re)]\n",
    "eval_metric = [\"logloss\"]"
   ]
  },
  {
   "cell_type": "code",
   "execution_count": 32,
   "metadata": {
    "scrolled": true
   },
   "outputs": [
    {
     "name": "stderr",
     "output_type": "stream",
     "text": [
      "C:\\Users\\FAIZ NAZEER\\anaconda3\\lib\\site-packages\\xgboost\\sklearn.py:892: UserWarning: The use of label encoder in XGBClassifier is deprecated and will be removed in a future release. To remove this warning, do the following: 1) Pass option use_label_encoder=False when constructing XGBClassifier object; and 2) Encode your labels (y) as integers starting with 0, i.e. 0, 1, 2, ..., [num_class - 1].\n",
      "  warnings.warn(label_encoder_deprecation_msg, UserWarning)\n"
     ]
    },
    {
     "name": "stdout",
     "output_type": "stream",
     "text": [
      "[22:00:42] WARNING: C:/Users/Administrator/workspace/xgboost-win64_release_1.3.0/src/learner.cc:541: \n",
      "Parameters: { silent } might not be used.\n",
      "\n",
      "  This may not be accurate due to some parameters are only used in language bindings but\n",
      "  passed down to XGBoost core.  Or some parameters are not used but slip through this\n",
      "  verification. Please open an issue if you find above cases.\n",
      "\n",
      "\n",
      "[0]\tvalidation_0-logloss:0.69148\n",
      "[1]\tvalidation_0-logloss:0.68785\n",
      "[2]\tvalidation_0-logloss:0.68515\n",
      "[3]\tvalidation_0-logloss:0.68169\n",
      "[4]\tvalidation_0-logloss:0.67827\n",
      "[5]\tvalidation_0-logloss:0.67496\n",
      "[6]\tvalidation_0-logloss:0.67165\n",
      "[7]\tvalidation_0-logloss:0.66788\n",
      "[8]\tvalidation_0-logloss:0.66484\n",
      "[9]\tvalidation_0-logloss:0.66138\n",
      "[10]\tvalidation_0-logloss:0.65853\n",
      "[11]\tvalidation_0-logloss:0.65663\n",
      "[12]\tvalidation_0-logloss:0.65340\n",
      "[13]\tvalidation_0-logloss:0.65067\n",
      "[14]\tvalidation_0-logloss:0.64755\n",
      "[15]\tvalidation_0-logloss:0.64607\n",
      "[16]\tvalidation_0-logloss:0.64312\n",
      "[17]\tvalidation_0-logloss:0.64127\n",
      "[18]\tvalidation_0-logloss:0.63975\n",
      "[19]\tvalidation_0-logloss:0.63664\n",
      "[20]\tvalidation_0-logloss:0.63425\n",
      "[21]\tvalidation_0-logloss:0.63168\n",
      "[22]\tvalidation_0-logloss:0.62869\n",
      "[23]\tvalidation_0-logloss:0.62651\n",
      "[24]\tvalidation_0-logloss:0.62369\n",
      "[25]\tvalidation_0-logloss:0.62103\n",
      "[26]\tvalidation_0-logloss:0.61869\n",
      "[27]\tvalidation_0-logloss:0.61591\n",
      "[28]\tvalidation_0-logloss:0.61353\n",
      "[29]\tvalidation_0-logloss:0.61148\n",
      "[30]\tvalidation_0-logloss:0.60964\n",
      "[31]\tvalidation_0-logloss:0.60724\n",
      "[32]\tvalidation_0-logloss:0.60598\n",
      "[33]\tvalidation_0-logloss:0.60354\n",
      "[34]\tvalidation_0-logloss:0.60222\n",
      "[35]\tvalidation_0-logloss:0.59974\n",
      "[36]\tvalidation_0-logloss:0.59777\n",
      "[37]\tvalidation_0-logloss:0.59601\n",
      "[38]\tvalidation_0-logloss:0.59379\n",
      "[39]\tvalidation_0-logloss:0.59160\n",
      "[40]\tvalidation_0-logloss:0.58951\n",
      "[41]\tvalidation_0-logloss:0.58731\n",
      "[42]\tvalidation_0-logloss:0.58547\n",
      "[43]\tvalidation_0-logloss:0.58336\n",
      "[44]\tvalidation_0-logloss:0.58231\n",
      "[45]\tvalidation_0-logloss:0.57987\n",
      "[46]\tvalidation_0-logloss:0.57753\n",
      "[47]\tvalidation_0-logloss:0.57555\n",
      "[48]\tvalidation_0-logloss:0.57323\n",
      "[49]\tvalidation_0-logloss:0.57111\n",
      "[50]\tvalidation_0-logloss:0.56929\n",
      "[51]\tvalidation_0-logloss:0.56747\n",
      "[52]\tvalidation_0-logloss:0.56591\n",
      "[53]\tvalidation_0-logloss:0.56375\n",
      "[54]\tvalidation_0-logloss:0.56284\n",
      "[55]\tvalidation_0-logloss:0.56102\n",
      "[56]\tvalidation_0-logloss:0.55918\n",
      "[57]\tvalidation_0-logloss:0.55740\n",
      "[58]\tvalidation_0-logloss:0.55554\n",
      "[59]\tvalidation_0-logloss:0.55373\n",
      "[60]\tvalidation_0-logloss:0.55202\n",
      "[61]\tvalidation_0-logloss:0.55084\n",
      "[62]\tvalidation_0-logloss:0.54903\n",
      "[63]\tvalidation_0-logloss:0.54750\n",
      "[64]\tvalidation_0-logloss:0.54657\n",
      "[65]\tvalidation_0-logloss:0.54436\n",
      "[66]\tvalidation_0-logloss:0.54319\n",
      "[67]\tvalidation_0-logloss:0.54161\n",
      "[68]\tvalidation_0-logloss:0.54036\n",
      "[69]\tvalidation_0-logloss:0.53930\n",
      "[70]\tvalidation_0-logloss:0.53894\n",
      "[71]\tvalidation_0-logloss:0.53877\n",
      "[72]\tvalidation_0-logloss:0.53743\n",
      "[73]\tvalidation_0-logloss:0.53612\n",
      "[74]\tvalidation_0-logloss:0.53495\n",
      "[75]\tvalidation_0-logloss:0.53322\n",
      "[76]\tvalidation_0-logloss:0.53148\n",
      "[77]\tvalidation_0-logloss:0.53053\n",
      "[78]\tvalidation_0-logloss:0.52899\n",
      "[79]\tvalidation_0-logloss:0.52713\n",
      "[80]\tvalidation_0-logloss:0.52611\n",
      "[81]\tvalidation_0-logloss:0.52450\n",
      "[82]\tvalidation_0-logloss:0.52353\n",
      "[83]\tvalidation_0-logloss:0.52228\n",
      "[84]\tvalidation_0-logloss:0.52079\n",
      "[85]\tvalidation_0-logloss:0.51953\n",
      "[86]\tvalidation_0-logloss:0.51783\n",
      "[87]\tvalidation_0-logloss:0.51657\n",
      "[88]\tvalidation_0-logloss:0.51543\n",
      "[89]\tvalidation_0-logloss:0.51384\n",
      "[90]\tvalidation_0-logloss:0.51263\n",
      "[91]\tvalidation_0-logloss:0.51094\n",
      "[92]\tvalidation_0-logloss:0.50945\n",
      "[93]\tvalidation_0-logloss:0.50824\n",
      "[94]\tvalidation_0-logloss:0.50655\n",
      "[95]\tvalidation_0-logloss:0.50526\n",
      "[96]\tvalidation_0-logloss:0.50435\n",
      "[97]\tvalidation_0-logloss:0.50350\n",
      "[98]\tvalidation_0-logloss:0.50300\n",
      "[99]\tvalidation_0-logloss:0.50224\n",
      "[100]\tvalidation_0-logloss:0.50185\n",
      "[101]\tvalidation_0-logloss:0.50081\n",
      "[102]\tvalidation_0-logloss:0.49957\n",
      "[103]\tvalidation_0-logloss:0.49811\n",
      "[104]\tvalidation_0-logloss:0.49678\n",
      "[105]\tvalidation_0-logloss:0.49544\n",
      "[106]\tvalidation_0-logloss:0.49463\n",
      "[107]\tvalidation_0-logloss:0.49320\n",
      "[108]\tvalidation_0-logloss:0.49184\n",
      "[109]\tvalidation_0-logloss:0.49068\n",
      "[110]\tvalidation_0-logloss:0.48968\n",
      "[111]\tvalidation_0-logloss:0.48818\n",
      "[112]\tvalidation_0-logloss:0.48796\n",
      "[113]\tvalidation_0-logloss:0.48713\n",
      "[114]\tvalidation_0-logloss:0.48683\n",
      "[115]\tvalidation_0-logloss:0.48576\n",
      "[116]\tvalidation_0-logloss:0.48462\n",
      "[117]\tvalidation_0-logloss:0.48341\n",
      "[118]\tvalidation_0-logloss:0.48230\n",
      "[119]\tvalidation_0-logloss:0.48159\n",
      "[120]\tvalidation_0-logloss:0.48039\n",
      "[121]\tvalidation_0-logloss:0.47934\n",
      "[122]\tvalidation_0-logloss:0.47854\n",
      "[123]\tvalidation_0-logloss:0.47815\n",
      "[124]\tvalidation_0-logloss:0.47707\n",
      "[125]\tvalidation_0-logloss:0.47614\n",
      "[126]\tvalidation_0-logloss:0.47490\n",
      "[127]\tvalidation_0-logloss:0.47395\n",
      "[128]\tvalidation_0-logloss:0.47411\n",
      "[129]\tvalidation_0-logloss:0.47418\n",
      "[130]\tvalidation_0-logloss:0.47249\n",
      "[131]\tvalidation_0-logloss:0.47130\n",
      "[132]\tvalidation_0-logloss:0.47001\n",
      "[133]\tvalidation_0-logloss:0.46934\n",
      "[134]\tvalidation_0-logloss:0.46859\n",
      "[135]\tvalidation_0-logloss:0.46797\n",
      "[136]\tvalidation_0-logloss:0.46691\n",
      "[137]\tvalidation_0-logloss:0.46599\n",
      "[138]\tvalidation_0-logloss:0.46569\n",
      "[139]\tvalidation_0-logloss:0.46459\n",
      "[140]\tvalidation_0-logloss:0.46385\n",
      "[141]\tvalidation_0-logloss:0.46338\n",
      "[142]\tvalidation_0-logloss:0.46246\n",
      "[143]\tvalidation_0-logloss:0.46163\n",
      "[144]\tvalidation_0-logloss:0.46196\n",
      "[145]\tvalidation_0-logloss:0.46101\n",
      "[146]\tvalidation_0-logloss:0.45997\n",
      "[147]\tvalidation_0-logloss:0.45987\n",
      "[148]\tvalidation_0-logloss:0.45940\n",
      "[149]\tvalidation_0-logloss:0.45919\n",
      "[150]\tvalidation_0-logloss:0.45812\n",
      "[151]\tvalidation_0-logloss:0.45778\n",
      "[152]\tvalidation_0-logloss:0.45714\n",
      "[153]\tvalidation_0-logloss:0.45650\n",
      "[154]\tvalidation_0-logloss:0.45600\n",
      "[155]\tvalidation_0-logloss:0.45567\n",
      "[156]\tvalidation_0-logloss:0.45487\n",
      "[157]\tvalidation_0-logloss:0.45399\n",
      "[158]\tvalidation_0-logloss:0.45317\n",
      "[159]\tvalidation_0-logloss:0.45349\n",
      "[160]\tvalidation_0-logloss:0.45247\n",
      "[161]\tvalidation_0-logloss:0.45162\n",
      "[162]\tvalidation_0-logloss:0.45082\n",
      "[163]\tvalidation_0-logloss:0.45051\n",
      "[164]\tvalidation_0-logloss:0.45066\n",
      "[165]\tvalidation_0-logloss:0.45039\n",
      "[166]\tvalidation_0-logloss:0.44971\n",
      "[167]\tvalidation_0-logloss:0.44923\n",
      "[168]\tvalidation_0-logloss:0.44907\n",
      "[169]\tvalidation_0-logloss:0.44781\n",
      "[170]\tvalidation_0-logloss:0.44659\n",
      "[171]\tvalidation_0-logloss:0.44577\n",
      "[172]\tvalidation_0-logloss:0.44570\n",
      "[173]\tvalidation_0-logloss:0.44524\n",
      "[174]\tvalidation_0-logloss:0.44471\n",
      "[175]\tvalidation_0-logloss:0.44394\n",
      "[176]\tvalidation_0-logloss:0.44339\n",
      "[177]\tvalidation_0-logloss:0.44298\n",
      "[178]\tvalidation_0-logloss:0.44160\n",
      "[179]\tvalidation_0-logloss:0.44127\n",
      "[180]\tvalidation_0-logloss:0.44093\n",
      "[181]\tvalidation_0-logloss:0.44033\n",
      "[182]\tvalidation_0-logloss:0.44003\n",
      "[183]\tvalidation_0-logloss:0.43959\n",
      "[184]\tvalidation_0-logloss:0.43867\n",
      "[185]\tvalidation_0-logloss:0.43904\n",
      "[186]\tvalidation_0-logloss:0.43849\n",
      "[187]\tvalidation_0-logloss:0.43791\n",
      "[188]\tvalidation_0-logloss:0.43759\n",
      "[189]\tvalidation_0-logloss:0.43732\n",
      "[190]\tvalidation_0-logloss:0.43678\n",
      "[191]\tvalidation_0-logloss:0.43667\n",
      "[192]\tvalidation_0-logloss:0.43642\n",
      "[193]\tvalidation_0-logloss:0.43521\n",
      "[194]\tvalidation_0-logloss:0.43414\n",
      "[195]\tvalidation_0-logloss:0.43399\n",
      "[196]\tvalidation_0-logloss:0.43345\n",
      "[197]\tvalidation_0-logloss:0.43257\n",
      "[198]\tvalidation_0-logloss:0.43176\n",
      "[199]\tvalidation_0-logloss:0.43115\n",
      "[200]\tvalidation_0-logloss:0.43068\n",
      "[201]\tvalidation_0-logloss:0.43015\n",
      "[202]\tvalidation_0-logloss:0.43011\n",
      "[203]\tvalidation_0-logloss:0.42960\n",
      "[204]\tvalidation_0-logloss:0.42907\n",
      "[205]\tvalidation_0-logloss:0.42801\n",
      "[206]\tvalidation_0-logloss:0.42769\n",
      "[207]\tvalidation_0-logloss:0.42751\n",
      "[208]\tvalidation_0-logloss:0.42666\n",
      "[209]\tvalidation_0-logloss:0.42616\n",
      "[210]\tvalidation_0-logloss:0.42603\n",
      "[211]\tvalidation_0-logloss:0.42520\n",
      "[212]\tvalidation_0-logloss:0.42466\n",
      "[213]\tvalidation_0-logloss:0.42447\n",
      "[214]\tvalidation_0-logloss:0.42382\n",
      "[215]\tvalidation_0-logloss:0.42357\n",
      "[216]\tvalidation_0-logloss:0.42330\n",
      "[217]\tvalidation_0-logloss:0.42288\n",
      "[218]\tvalidation_0-logloss:0.42298\n",
      "[219]\tvalidation_0-logloss:0.42213\n",
      "[220]\tvalidation_0-logloss:0.42142\n",
      "[221]\tvalidation_0-logloss:0.42096\n",
      "[222]\tvalidation_0-logloss:0.42040\n",
      "[223]\tvalidation_0-logloss:0.42043\n",
      "[224]\tvalidation_0-logloss:0.41985\n",
      "[225]\tvalidation_0-logloss:0.41924\n",
      "[226]\tvalidation_0-logloss:0.41870\n"
     ]
    },
    {
     "name": "stdout",
     "output_type": "stream",
     "text": [
      "[227]\tvalidation_0-logloss:0.41832\n",
      "[228]\tvalidation_0-logloss:0.41807\n",
      "[229]\tvalidation_0-logloss:0.41756\n",
      "[230]\tvalidation_0-logloss:0.41744\n",
      "[231]\tvalidation_0-logloss:0.41726\n",
      "[232]\tvalidation_0-logloss:0.41673\n",
      "[233]\tvalidation_0-logloss:0.41670\n",
      "[234]\tvalidation_0-logloss:0.41596\n",
      "[235]\tvalidation_0-logloss:0.41541\n",
      "[236]\tvalidation_0-logloss:0.41500\n",
      "[237]\tvalidation_0-logloss:0.41432\n",
      "[238]\tvalidation_0-logloss:0.41414\n",
      "[239]\tvalidation_0-logloss:0.41347\n",
      "[240]\tvalidation_0-logloss:0.41296\n",
      "[241]\tvalidation_0-logloss:0.41260\n",
      "[242]\tvalidation_0-logloss:0.41215\n",
      "[243]\tvalidation_0-logloss:0.41189\n",
      "[244]\tvalidation_0-logloss:0.41133\n",
      "[245]\tvalidation_0-logloss:0.41116\n",
      "[246]\tvalidation_0-logloss:0.41105\n",
      "[247]\tvalidation_0-logloss:0.41042\n",
      "[248]\tvalidation_0-logloss:0.41026\n",
      "[249]\tvalidation_0-logloss:0.40966\n",
      "[250]\tvalidation_0-logloss:0.40932\n",
      "[251]\tvalidation_0-logloss:0.40955\n",
      "[252]\tvalidation_0-logloss:0.40966\n",
      "[253]\tvalidation_0-logloss:0.40983\n",
      "[254]\tvalidation_0-logloss:0.40914\n",
      "[255]\tvalidation_0-logloss:0.40911\n",
      "[256]\tvalidation_0-logloss:0.40877\n",
      "[257]\tvalidation_0-logloss:0.40860\n",
      "[258]\tvalidation_0-logloss:0.40820\n",
      "[259]\tvalidation_0-logloss:0.40738\n",
      "[260]\tvalidation_0-logloss:0.40685\n",
      "[261]\tvalidation_0-logloss:0.40648\n",
      "[262]\tvalidation_0-logloss:0.40629\n",
      "[263]\tvalidation_0-logloss:0.40572\n",
      "[264]\tvalidation_0-logloss:0.40544\n",
      "[265]\tvalidation_0-logloss:0.40470\n",
      "[266]\tvalidation_0-logloss:0.40397\n",
      "[267]\tvalidation_0-logloss:0.40350\n",
      "[268]\tvalidation_0-logloss:0.40319\n",
      "[269]\tvalidation_0-logloss:0.40319\n",
      "[270]\tvalidation_0-logloss:0.40235\n",
      "[271]\tvalidation_0-logloss:0.40207\n",
      "[272]\tvalidation_0-logloss:0.40194\n",
      "[273]\tvalidation_0-logloss:0.40155\n",
      "[274]\tvalidation_0-logloss:0.40173\n",
      "[275]\tvalidation_0-logloss:0.40085\n",
      "[276]\tvalidation_0-logloss:0.40030\n",
      "[277]\tvalidation_0-logloss:0.39994\n",
      "[278]\tvalidation_0-logloss:0.40002\n",
      "[279]\tvalidation_0-logloss:0.39960\n",
      "[280]\tvalidation_0-logloss:0.39934\n",
      "[281]\tvalidation_0-logloss:0.39911\n",
      "[282]\tvalidation_0-logloss:0.39906\n",
      "[283]\tvalidation_0-logloss:0.39818\n",
      "[284]\tvalidation_0-logloss:0.39771\n",
      "[285]\tvalidation_0-logloss:0.39756\n",
      "[286]\tvalidation_0-logloss:0.39715\n",
      "[287]\tvalidation_0-logloss:0.39676\n",
      "[288]\tvalidation_0-logloss:0.39697\n",
      "[289]\tvalidation_0-logloss:0.39664\n",
      "[290]\tvalidation_0-logloss:0.39636\n",
      "[291]\tvalidation_0-logloss:0.39627\n",
      "[292]\tvalidation_0-logloss:0.39534\n",
      "[293]\tvalidation_0-logloss:0.39486\n",
      "[294]\tvalidation_0-logloss:0.39456\n",
      "[295]\tvalidation_0-logloss:0.39374\n",
      "[296]\tvalidation_0-logloss:0.39340\n",
      "[297]\tvalidation_0-logloss:0.39330\n",
      "[298]\tvalidation_0-logloss:0.39254\n",
      "[299]\tvalidation_0-logloss:0.39267\n",
      "[300]\tvalidation_0-logloss:0.39239\n",
      "[301]\tvalidation_0-logloss:0.39235\n",
      "[302]\tvalidation_0-logloss:0.39182\n",
      "[303]\tvalidation_0-logloss:0.39156\n",
      "[304]\tvalidation_0-logloss:0.39084\n",
      "[305]\tvalidation_0-logloss:0.39071\n",
      "[306]\tvalidation_0-logloss:0.38972\n",
      "[307]\tvalidation_0-logloss:0.38949\n",
      "[308]\tvalidation_0-logloss:0.38920\n",
      "[309]\tvalidation_0-logloss:0.38880\n",
      "[310]\tvalidation_0-logloss:0.38848\n",
      "[311]\tvalidation_0-logloss:0.38774\n",
      "[312]\tvalidation_0-logloss:0.38745\n",
      "[313]\tvalidation_0-logloss:0.38711\n",
      "[314]\tvalidation_0-logloss:0.38703\n",
      "[315]\tvalidation_0-logloss:0.38684\n",
      "[316]\tvalidation_0-logloss:0.38646\n",
      "[317]\tvalidation_0-logloss:0.38654\n",
      "[318]\tvalidation_0-logloss:0.38601\n",
      "[319]\tvalidation_0-logloss:0.38629\n",
      "[320]\tvalidation_0-logloss:0.38590\n",
      "[321]\tvalidation_0-logloss:0.38561\n",
      "[322]\tvalidation_0-logloss:0.38484\n",
      "[323]\tvalidation_0-logloss:0.38464\n",
      "[324]\tvalidation_0-logloss:0.38474\n",
      "[325]\tvalidation_0-logloss:0.38425\n",
      "[326]\tvalidation_0-logloss:0.38416\n",
      "[327]\tvalidation_0-logloss:0.38389\n",
      "[328]\tvalidation_0-logloss:0.38339\n",
      "[329]\tvalidation_0-logloss:0.38325\n",
      "[330]\tvalidation_0-logloss:0.38342\n",
      "[331]\tvalidation_0-logloss:0.38317\n",
      "[332]\tvalidation_0-logloss:0.38296\n",
      "[333]\tvalidation_0-logloss:0.38217\n",
      "[334]\tvalidation_0-logloss:0.38182\n",
      "[335]\tvalidation_0-logloss:0.38120\n",
      "[336]\tvalidation_0-logloss:0.38089\n",
      "[337]\tvalidation_0-logloss:0.38070\n",
      "[338]\tvalidation_0-logloss:0.37993\n",
      "[339]\tvalidation_0-logloss:0.37954\n",
      "[340]\tvalidation_0-logloss:0.37929\n",
      "[341]\tvalidation_0-logloss:0.37867\n",
      "[342]\tvalidation_0-logloss:0.37852\n",
      "[343]\tvalidation_0-logloss:0.37778\n",
      "[344]\tvalidation_0-logloss:0.37728\n",
      "[345]\tvalidation_0-logloss:0.37718\n",
      "[346]\tvalidation_0-logloss:0.37686\n",
      "[347]\tvalidation_0-logloss:0.37700\n",
      "[348]\tvalidation_0-logloss:0.37677\n",
      "[349]\tvalidation_0-logloss:0.37616\n",
      "[350]\tvalidation_0-logloss:0.37557\n",
      "[351]\tvalidation_0-logloss:0.37530\n",
      "[352]\tvalidation_0-logloss:0.37475\n",
      "[353]\tvalidation_0-logloss:0.37460\n",
      "[354]\tvalidation_0-logloss:0.37424\n",
      "[355]\tvalidation_0-logloss:0.37431\n",
      "[356]\tvalidation_0-logloss:0.37383\n",
      "[357]\tvalidation_0-logloss:0.37329\n",
      "[358]\tvalidation_0-logloss:0.37291\n",
      "[359]\tvalidation_0-logloss:0.37272\n",
      "[360]\tvalidation_0-logloss:0.37263\n",
      "[361]\tvalidation_0-logloss:0.37208\n",
      "[362]\tvalidation_0-logloss:0.37186\n",
      "[363]\tvalidation_0-logloss:0.37170\n",
      "[364]\tvalidation_0-logloss:0.37144\n",
      "[365]\tvalidation_0-logloss:0.37108\n",
      "[366]\tvalidation_0-logloss:0.37089\n",
      "[367]\tvalidation_0-logloss:0.37056\n",
      "[368]\tvalidation_0-logloss:0.37018\n",
      "[369]\tvalidation_0-logloss:0.37003\n",
      "[370]\tvalidation_0-logloss:0.36954\n",
      "[371]\tvalidation_0-logloss:0.36869\n",
      "[372]\tvalidation_0-logloss:0.36851\n",
      "[373]\tvalidation_0-logloss:0.36860\n",
      "[374]\tvalidation_0-logloss:0.36810\n",
      "[375]\tvalidation_0-logloss:0.36750\n",
      "[376]\tvalidation_0-logloss:0.36715\n",
      "[377]\tvalidation_0-logloss:0.36675\n",
      "[378]\tvalidation_0-logloss:0.36673\n",
      "[379]\tvalidation_0-logloss:0.36642\n",
      "[380]\tvalidation_0-logloss:0.36651\n",
      "[381]\tvalidation_0-logloss:0.36645\n",
      "[382]\tvalidation_0-logloss:0.36637\n",
      "[383]\tvalidation_0-logloss:0.36622\n",
      "[384]\tvalidation_0-logloss:0.36596\n",
      "[385]\tvalidation_0-logloss:0.36589\n",
      "[386]\tvalidation_0-logloss:0.36528\n",
      "[387]\tvalidation_0-logloss:0.36522\n",
      "[388]\tvalidation_0-logloss:0.36537\n",
      "[389]\tvalidation_0-logloss:0.36525\n",
      "[390]\tvalidation_0-logloss:0.36495\n",
      "[391]\tvalidation_0-logloss:0.36478\n",
      "[392]\tvalidation_0-logloss:0.36464\n",
      "[393]\tvalidation_0-logloss:0.36435\n",
      "[394]\tvalidation_0-logloss:0.36375\n",
      "[395]\tvalidation_0-logloss:0.36341\n",
      "[396]\tvalidation_0-logloss:0.36274\n",
      "[397]\tvalidation_0-logloss:0.36244\n",
      "[398]\tvalidation_0-logloss:0.36168\n",
      "[399]\tvalidation_0-logloss:0.36143\n",
      "[400]\tvalidation_0-logloss:0.36109\n",
      "[401]\tvalidation_0-logloss:0.36097\n",
      "[402]\tvalidation_0-logloss:0.36073\n",
      "[403]\tvalidation_0-logloss:0.36038\n",
      "[404]\tvalidation_0-logloss:0.36036\n",
      "[405]\tvalidation_0-logloss:0.36012\n",
      "[406]\tvalidation_0-logloss:0.35965\n",
      "[407]\tvalidation_0-logloss:0.35970\n",
      "[408]\tvalidation_0-logloss:0.35941\n",
      "[409]\tvalidation_0-logloss:0.35943\n",
      "[410]\tvalidation_0-logloss:0.35941\n",
      "[411]\tvalidation_0-logloss:0.35895\n",
      "[412]\tvalidation_0-logloss:0.35873\n",
      "[413]\tvalidation_0-logloss:0.35861\n",
      "[414]\tvalidation_0-logloss:0.35787\n",
      "[415]\tvalidation_0-logloss:0.35824\n",
      "[416]\tvalidation_0-logloss:0.35838\n",
      "[417]\tvalidation_0-logloss:0.35834\n",
      "[418]\tvalidation_0-logloss:0.35794\n",
      "[419]\tvalidation_0-logloss:0.35787\n",
      "[420]\tvalidation_0-logloss:0.35751\n",
      "[421]\tvalidation_0-logloss:0.35751\n",
      "[422]\tvalidation_0-logloss:0.35723\n",
      "[423]\tvalidation_0-logloss:0.35647\n",
      "[424]\tvalidation_0-logloss:0.35653\n",
      "[425]\tvalidation_0-logloss:0.35660\n",
      "[426]\tvalidation_0-logloss:0.35650\n",
      "[427]\tvalidation_0-logloss:0.35629\n",
      "[428]\tvalidation_0-logloss:0.35615\n",
      "[429]\tvalidation_0-logloss:0.35614\n",
      "[430]\tvalidation_0-logloss:0.35574\n",
      "[431]\tvalidation_0-logloss:0.35546\n",
      "[432]\tvalidation_0-logloss:0.35532\n",
      "[433]\tvalidation_0-logloss:0.35483\n",
      "[434]\tvalidation_0-logloss:0.35408\n",
      "[435]\tvalidation_0-logloss:0.35406\n",
      "[436]\tvalidation_0-logloss:0.35381\n",
      "[437]\tvalidation_0-logloss:0.35337\n",
      "[438]\tvalidation_0-logloss:0.35357\n",
      "[439]\tvalidation_0-logloss:0.35352\n",
      "[440]\tvalidation_0-logloss:0.35354\n",
      "[441]\tvalidation_0-logloss:0.35330\n",
      "[442]\tvalidation_0-logloss:0.35287\n",
      "[443]\tvalidation_0-logloss:0.35243\n",
      "[444]\tvalidation_0-logloss:0.35197\n",
      "[445]\tvalidation_0-logloss:0.35201\n",
      "[446]\tvalidation_0-logloss:0.35167\n",
      "[447]\tvalidation_0-logloss:0.35138\n",
      "[448]\tvalidation_0-logloss:0.35157\n",
      "[449]\tvalidation_0-logloss:0.35148\n",
      "[450]\tvalidation_0-logloss:0.35150\n",
      "[451]\tvalidation_0-logloss:0.35119\n",
      "[452]\tvalidation_0-logloss:0.35078\n",
      "[453]\tvalidation_0-logloss:0.35061\n",
      "[454]\tvalidation_0-logloss:0.35062\n",
      "[455]\tvalidation_0-logloss:0.35035\n",
      "[456]\tvalidation_0-logloss:0.35001\n",
      "[457]\tvalidation_0-logloss:0.34997\n",
      "[458]\tvalidation_0-logloss:0.34987\n",
      "[459]\tvalidation_0-logloss:0.34949\n",
      "[460]\tvalidation_0-logloss:0.34967\n",
      "[461]\tvalidation_0-logloss:0.34914\n"
     ]
    },
    {
     "name": "stdout",
     "output_type": "stream",
     "text": [
      "[462]\tvalidation_0-logloss:0.34897\n",
      "[463]\tvalidation_0-logloss:0.34846\n",
      "[464]\tvalidation_0-logloss:0.34803\n",
      "[465]\tvalidation_0-logloss:0.34739\n",
      "[466]\tvalidation_0-logloss:0.34700\n",
      "[467]\tvalidation_0-logloss:0.34685\n",
      "[468]\tvalidation_0-logloss:0.34657\n",
      "[469]\tvalidation_0-logloss:0.34597\n",
      "[470]\tvalidation_0-logloss:0.34563\n",
      "[471]\tvalidation_0-logloss:0.34556\n",
      "[472]\tvalidation_0-logloss:0.34516\n",
      "[473]\tvalidation_0-logloss:0.34507\n",
      "[474]\tvalidation_0-logloss:0.34498\n",
      "[475]\tvalidation_0-logloss:0.34447\n",
      "[476]\tvalidation_0-logloss:0.34439\n",
      "[477]\tvalidation_0-logloss:0.34410\n",
      "[478]\tvalidation_0-logloss:0.34393\n",
      "[479]\tvalidation_0-logloss:0.34367\n",
      "[480]\tvalidation_0-logloss:0.34332\n",
      "[481]\tvalidation_0-logloss:0.34320\n",
      "[482]\tvalidation_0-logloss:0.34280\n",
      "[483]\tvalidation_0-logloss:0.34254\n",
      "[484]\tvalidation_0-logloss:0.34239\n",
      "[485]\tvalidation_0-logloss:0.34209\n",
      "[486]\tvalidation_0-logloss:0.34121\n",
      "[487]\tvalidation_0-logloss:0.34071\n",
      "[488]\tvalidation_0-logloss:0.34082\n",
      "[489]\tvalidation_0-logloss:0.34056\n",
      "[490]\tvalidation_0-logloss:0.34023\n",
      "[491]\tvalidation_0-logloss:0.34027\n",
      "[492]\tvalidation_0-logloss:0.33992\n",
      "[493]\tvalidation_0-logloss:0.33999\n",
      "[494]\tvalidation_0-logloss:0.33976\n",
      "[495]\tvalidation_0-logloss:0.33971\n",
      "[496]\tvalidation_0-logloss:0.33966\n",
      "[497]\tvalidation_0-logloss:0.33964\n",
      "[498]\tvalidation_0-logloss:0.33924\n",
      "[499]\tvalidation_0-logloss:0.33940\n",
      "[500]\tvalidation_0-logloss:0.33935\n",
      "[501]\tvalidation_0-logloss:0.33904\n",
      "[502]\tvalidation_0-logloss:0.33888\n",
      "[503]\tvalidation_0-logloss:0.33886\n",
      "[504]\tvalidation_0-logloss:0.33842\n",
      "[505]\tvalidation_0-logloss:0.33828\n",
      "[506]\tvalidation_0-logloss:0.33753\n",
      "[507]\tvalidation_0-logloss:0.33716\n",
      "[508]\tvalidation_0-logloss:0.33683\n",
      "[509]\tvalidation_0-logloss:0.33675\n",
      "[510]\tvalidation_0-logloss:0.33707\n",
      "[511]\tvalidation_0-logloss:0.33688\n",
      "[512]\tvalidation_0-logloss:0.33650\n",
      "[513]\tvalidation_0-logloss:0.33602\n",
      "[514]\tvalidation_0-logloss:0.33572\n",
      "[515]\tvalidation_0-logloss:0.33585\n",
      "[516]\tvalidation_0-logloss:0.33579\n",
      "[517]\tvalidation_0-logloss:0.33532\n",
      "[518]\tvalidation_0-logloss:0.33536\n",
      "[519]\tvalidation_0-logloss:0.33487\n",
      "[520]\tvalidation_0-logloss:0.33496\n",
      "[521]\tvalidation_0-logloss:0.33446\n",
      "[522]\tvalidation_0-logloss:0.33427\n",
      "[523]\tvalidation_0-logloss:0.33446\n",
      "[524]\tvalidation_0-logloss:0.33444\n",
      "[525]\tvalidation_0-logloss:0.33439\n",
      "[526]\tvalidation_0-logloss:0.33416\n",
      "[527]\tvalidation_0-logloss:0.33404\n",
      "[528]\tvalidation_0-logloss:0.33383\n",
      "[529]\tvalidation_0-logloss:0.33354\n",
      "[530]\tvalidation_0-logloss:0.33326\n",
      "[531]\tvalidation_0-logloss:0.33324\n",
      "[532]\tvalidation_0-logloss:0.33286\n",
      "[533]\tvalidation_0-logloss:0.33278\n",
      "[534]\tvalidation_0-logloss:0.33276\n",
      "[535]\tvalidation_0-logloss:0.33242\n",
      "[536]\tvalidation_0-logloss:0.33178\n",
      "[537]\tvalidation_0-logloss:0.33160\n",
      "[538]\tvalidation_0-logloss:0.33162\n",
      "[539]\tvalidation_0-logloss:0.33105\n",
      "[540]\tvalidation_0-logloss:0.33093\n",
      "[541]\tvalidation_0-logloss:0.33090\n",
      "[542]\tvalidation_0-logloss:0.33072\n",
      "[543]\tvalidation_0-logloss:0.33079\n",
      "[544]\tvalidation_0-logloss:0.33057\n",
      "[545]\tvalidation_0-logloss:0.33046\n",
      "[546]\tvalidation_0-logloss:0.33006\n",
      "[547]\tvalidation_0-logloss:0.32975\n",
      "[548]\tvalidation_0-logloss:0.32938\n",
      "[549]\tvalidation_0-logloss:0.32915\n",
      "[550]\tvalidation_0-logloss:0.32881\n",
      "[551]\tvalidation_0-logloss:0.32834\n",
      "[552]\tvalidation_0-logloss:0.32778\n",
      "[553]\tvalidation_0-logloss:0.32769\n",
      "[554]\tvalidation_0-logloss:0.32748\n",
      "[555]\tvalidation_0-logloss:0.32745\n",
      "[556]\tvalidation_0-logloss:0.32731\n",
      "[557]\tvalidation_0-logloss:0.32711\n",
      "[558]\tvalidation_0-logloss:0.32700\n",
      "[559]\tvalidation_0-logloss:0.32705\n",
      "[560]\tvalidation_0-logloss:0.32691\n",
      "[561]\tvalidation_0-logloss:0.32668\n",
      "[562]\tvalidation_0-logloss:0.32651\n",
      "[563]\tvalidation_0-logloss:0.32623\n",
      "[564]\tvalidation_0-logloss:0.32574\n",
      "[565]\tvalidation_0-logloss:0.32600\n",
      "[566]\tvalidation_0-logloss:0.32582\n",
      "[567]\tvalidation_0-logloss:0.32547\n",
      "[568]\tvalidation_0-logloss:0.32547\n",
      "[569]\tvalidation_0-logloss:0.32554\n",
      "[570]\tvalidation_0-logloss:0.32547\n",
      "[571]\tvalidation_0-logloss:0.32540\n",
      "[572]\tvalidation_0-logloss:0.32508\n",
      "[573]\tvalidation_0-logloss:0.32491\n",
      "[574]\tvalidation_0-logloss:0.32449\n",
      "[575]\tvalidation_0-logloss:0.32446\n",
      "[576]\tvalidation_0-logloss:0.32403\n",
      "[577]\tvalidation_0-logloss:0.32405\n",
      "[578]\tvalidation_0-logloss:0.32363\n",
      "[579]\tvalidation_0-logloss:0.32354\n",
      "[580]\tvalidation_0-logloss:0.32355\n",
      "[581]\tvalidation_0-logloss:0.32328\n",
      "[582]\tvalidation_0-logloss:0.32316\n",
      "[583]\tvalidation_0-logloss:0.32305\n",
      "[584]\tvalidation_0-logloss:0.32318\n",
      "[585]\tvalidation_0-logloss:0.32268\n",
      "[586]\tvalidation_0-logloss:0.32283\n",
      "[587]\tvalidation_0-logloss:0.32259\n",
      "[588]\tvalidation_0-logloss:0.32229\n",
      "[589]\tvalidation_0-logloss:0.32198\n",
      "[590]\tvalidation_0-logloss:0.32182\n",
      "[591]\tvalidation_0-logloss:0.32168\n",
      "[592]\tvalidation_0-logloss:0.32122\n",
      "[593]\tvalidation_0-logloss:0.32115\n",
      "[594]\tvalidation_0-logloss:0.32097\n",
      "[595]\tvalidation_0-logloss:0.32085\n",
      "[596]\tvalidation_0-logloss:0.32060\n",
      "[597]\tvalidation_0-logloss:0.32080\n",
      "[598]\tvalidation_0-logloss:0.32069\n",
      "[599]\tvalidation_0-logloss:0.32067\n",
      "[600]\tvalidation_0-logloss:0.32066\n",
      "[601]\tvalidation_0-logloss:0.32042\n",
      "[602]\tvalidation_0-logloss:0.32004\n",
      "[603]\tvalidation_0-logloss:0.31945\n",
      "[604]\tvalidation_0-logloss:0.31913\n",
      "[605]\tvalidation_0-logloss:0.31896\n",
      "[606]\tvalidation_0-logloss:0.31863\n",
      "[607]\tvalidation_0-logloss:0.31860\n",
      "[608]\tvalidation_0-logloss:0.31853\n",
      "[609]\tvalidation_0-logloss:0.31821\n",
      "[610]\tvalidation_0-logloss:0.31823\n",
      "[611]\tvalidation_0-logloss:0.31829\n",
      "[612]\tvalidation_0-logloss:0.31801\n",
      "[613]\tvalidation_0-logloss:0.31818\n",
      "[614]\tvalidation_0-logloss:0.31818\n",
      "[615]\tvalidation_0-logloss:0.31797\n",
      "[616]\tvalidation_0-logloss:0.31748\n",
      "[617]\tvalidation_0-logloss:0.31721\n",
      "[618]\tvalidation_0-logloss:0.31698\n",
      "[619]\tvalidation_0-logloss:0.31678\n",
      "[620]\tvalidation_0-logloss:0.31641\n",
      "[621]\tvalidation_0-logloss:0.31625\n",
      "[622]\tvalidation_0-logloss:0.31603\n",
      "[623]\tvalidation_0-logloss:0.31546\n",
      "[624]\tvalidation_0-logloss:0.31516\n",
      "[625]\tvalidation_0-logloss:0.31482\n",
      "[626]\tvalidation_0-logloss:0.31434\n",
      "[627]\tvalidation_0-logloss:0.31412\n",
      "[628]\tvalidation_0-logloss:0.31416\n",
      "[629]\tvalidation_0-logloss:0.31388\n",
      "[630]\tvalidation_0-logloss:0.31393\n",
      "[631]\tvalidation_0-logloss:0.31351\n",
      "[632]\tvalidation_0-logloss:0.31303\n",
      "[633]\tvalidation_0-logloss:0.31290\n",
      "[634]\tvalidation_0-logloss:0.31270\n",
      "[635]\tvalidation_0-logloss:0.31259\n",
      "[636]\tvalidation_0-logloss:0.31231\n",
      "[637]\tvalidation_0-logloss:0.31230\n",
      "[638]\tvalidation_0-logloss:0.31201\n",
      "[639]\tvalidation_0-logloss:0.31187\n",
      "[640]\tvalidation_0-logloss:0.31231\n",
      "[641]\tvalidation_0-logloss:0.31222\n",
      "[642]\tvalidation_0-logloss:0.31199\n",
      "[643]\tvalidation_0-logloss:0.31192\n",
      "[644]\tvalidation_0-logloss:0.31183\n",
      "[645]\tvalidation_0-logloss:0.31175\n",
      "[646]\tvalidation_0-logloss:0.31138\n",
      "[647]\tvalidation_0-logloss:0.31126\n",
      "[648]\tvalidation_0-logloss:0.31091\n",
      "[649]\tvalidation_0-logloss:0.31018\n",
      "[650]\tvalidation_0-logloss:0.31009\n",
      "[651]\tvalidation_0-logloss:0.30964\n",
      "[652]\tvalidation_0-logloss:0.30944\n",
      "[653]\tvalidation_0-logloss:0.30922\n",
      "[654]\tvalidation_0-logloss:0.30931\n",
      "[655]\tvalidation_0-logloss:0.30927\n",
      "[656]\tvalidation_0-logloss:0.30914\n",
      "[657]\tvalidation_0-logloss:0.30917\n",
      "[658]\tvalidation_0-logloss:0.30898\n",
      "[659]\tvalidation_0-logloss:0.30878\n",
      "[660]\tvalidation_0-logloss:0.30867\n",
      "[661]\tvalidation_0-logloss:0.30865\n",
      "[662]\tvalidation_0-logloss:0.30838\n",
      "[663]\tvalidation_0-logloss:0.30838\n",
      "[664]\tvalidation_0-logloss:0.30828\n",
      "[665]\tvalidation_0-logloss:0.30848\n",
      "[666]\tvalidation_0-logloss:0.30807\n",
      "[667]\tvalidation_0-logloss:0.30818\n",
      "[668]\tvalidation_0-logloss:0.30805\n",
      "[669]\tvalidation_0-logloss:0.30773\n",
      "[670]\tvalidation_0-logloss:0.30752\n",
      "[671]\tvalidation_0-logloss:0.30743\n",
      "[672]\tvalidation_0-logloss:0.30719\n",
      "[673]\tvalidation_0-logloss:0.30681\n",
      "[674]\tvalidation_0-logloss:0.30663\n",
      "[675]\tvalidation_0-logloss:0.30664\n",
      "[676]\tvalidation_0-logloss:0.30641\n",
      "[677]\tvalidation_0-logloss:0.30646\n",
      "[678]\tvalidation_0-logloss:0.30644\n",
      "[679]\tvalidation_0-logloss:0.30642\n",
      "[680]\tvalidation_0-logloss:0.30634\n",
      "[681]\tvalidation_0-logloss:0.30613\n",
      "[682]\tvalidation_0-logloss:0.30607\n",
      "[683]\tvalidation_0-logloss:0.30598\n",
      "[684]\tvalidation_0-logloss:0.30565\n",
      "[685]\tvalidation_0-logloss:0.30568\n",
      "[686]\tvalidation_0-logloss:0.30601\n",
      "[687]\tvalidation_0-logloss:0.30567\n",
      "[688]\tvalidation_0-logloss:0.30572\n",
      "[689]\tvalidation_0-logloss:0.30547\n",
      "[690]\tvalidation_0-logloss:0.30539\n",
      "[691]\tvalidation_0-logloss:0.30521\n",
      "[692]\tvalidation_0-logloss:0.30529\n",
      "[693]\tvalidation_0-logloss:0.30475\n",
      "[694]\tvalidation_0-logloss:0.30441\n",
      "[695]\tvalidation_0-logloss:0.30441\n",
      "[696]\tvalidation_0-logloss:0.30440\n"
     ]
    },
    {
     "name": "stdout",
     "output_type": "stream",
     "text": [
      "[697]\tvalidation_0-logloss:0.30440\n",
      "[698]\tvalidation_0-logloss:0.30467\n",
      "[699]\tvalidation_0-logloss:0.30429\n",
      "[700]\tvalidation_0-logloss:0.30431\n",
      "[701]\tvalidation_0-logloss:0.30418\n",
      "[702]\tvalidation_0-logloss:0.30403\n",
      "[703]\tvalidation_0-logloss:0.30374\n",
      "[704]\tvalidation_0-logloss:0.30368\n",
      "[705]\tvalidation_0-logloss:0.30337\n",
      "[706]\tvalidation_0-logloss:0.30335\n",
      "[707]\tvalidation_0-logloss:0.30307\n",
      "[708]\tvalidation_0-logloss:0.30292\n",
      "[709]\tvalidation_0-logloss:0.30266\n",
      "[710]\tvalidation_0-logloss:0.30291\n",
      "[711]\tvalidation_0-logloss:0.30258\n",
      "[712]\tvalidation_0-logloss:0.30249\n",
      "[713]\tvalidation_0-logloss:0.30203\n",
      "[714]\tvalidation_0-logloss:0.30180\n",
      "[715]\tvalidation_0-logloss:0.30155\n",
      "[716]\tvalidation_0-logloss:0.30124\n",
      "[717]\tvalidation_0-logloss:0.30090\n",
      "[718]\tvalidation_0-logloss:0.30081\n",
      "[719]\tvalidation_0-logloss:0.30047\n",
      "[720]\tvalidation_0-logloss:0.30036\n",
      "[721]\tvalidation_0-logloss:0.30018\n",
      "[722]\tvalidation_0-logloss:0.29975\n",
      "[723]\tvalidation_0-logloss:0.29956\n",
      "[724]\tvalidation_0-logloss:0.29951\n",
      "[725]\tvalidation_0-logloss:0.29936\n",
      "[726]\tvalidation_0-logloss:0.29930\n",
      "[727]\tvalidation_0-logloss:0.29932\n",
      "[728]\tvalidation_0-logloss:0.29896\n",
      "[729]\tvalidation_0-logloss:0.29909\n",
      "[730]\tvalidation_0-logloss:0.29888\n",
      "[731]\tvalidation_0-logloss:0.29877\n",
      "[732]\tvalidation_0-logloss:0.29875\n",
      "[733]\tvalidation_0-logloss:0.29842\n",
      "[734]\tvalidation_0-logloss:0.29856\n",
      "[735]\tvalidation_0-logloss:0.29838\n",
      "[736]\tvalidation_0-logloss:0.29815\n",
      "[737]\tvalidation_0-logloss:0.29818\n",
      "[738]\tvalidation_0-logloss:0.29829\n",
      "[739]\tvalidation_0-logloss:0.29792\n",
      "[740]\tvalidation_0-logloss:0.29747\n",
      "[741]\tvalidation_0-logloss:0.29746\n",
      "[742]\tvalidation_0-logloss:0.29706\n",
      "[743]\tvalidation_0-logloss:0.29701\n",
      "[744]\tvalidation_0-logloss:0.29682\n",
      "[745]\tvalidation_0-logloss:0.29635\n",
      "[746]\tvalidation_0-logloss:0.29607\n",
      "[747]\tvalidation_0-logloss:0.29582\n",
      "[748]\tvalidation_0-logloss:0.29562\n",
      "[749]\tvalidation_0-logloss:0.29561\n",
      "[750]\tvalidation_0-logloss:0.29569\n",
      "[751]\tvalidation_0-logloss:0.29567\n",
      "[752]\tvalidation_0-logloss:0.29566\n",
      "[753]\tvalidation_0-logloss:0.29565\n",
      "[754]\tvalidation_0-logloss:0.29564\n",
      "[755]\tvalidation_0-logloss:0.29558\n",
      "[756]\tvalidation_0-logloss:0.29533\n",
      "[757]\tvalidation_0-logloss:0.29517\n",
      "[758]\tvalidation_0-logloss:0.29486\n",
      "[759]\tvalidation_0-logloss:0.29459\n",
      "[760]\tvalidation_0-logloss:0.29455\n",
      "[761]\tvalidation_0-logloss:0.29454\n",
      "[762]\tvalidation_0-logloss:0.29380\n",
      "[763]\tvalidation_0-logloss:0.29371\n",
      "[764]\tvalidation_0-logloss:0.29347\n",
      "[765]\tvalidation_0-logloss:0.29354\n",
      "[766]\tvalidation_0-logloss:0.29351\n",
      "[767]\tvalidation_0-logloss:0.29280\n",
      "[768]\tvalidation_0-logloss:0.29229\n",
      "[769]\tvalidation_0-logloss:0.29197\n",
      "[770]\tvalidation_0-logloss:0.29196\n",
      "[771]\tvalidation_0-logloss:0.29204\n",
      "[772]\tvalidation_0-logloss:0.29165\n",
      "[773]\tvalidation_0-logloss:0.29134\n",
      "[774]\tvalidation_0-logloss:0.29153\n",
      "[775]\tvalidation_0-logloss:0.29132\n",
      "[776]\tvalidation_0-logloss:0.29099\n",
      "[777]\tvalidation_0-logloss:0.29079\n",
      "[778]\tvalidation_0-logloss:0.29051\n",
      "[779]\tvalidation_0-logloss:0.29021\n",
      "[780]\tvalidation_0-logloss:0.29033\n",
      "[781]\tvalidation_0-logloss:0.29000\n",
      "[782]\tvalidation_0-logloss:0.28981\n",
      "[783]\tvalidation_0-logloss:0.28974\n",
      "[784]\tvalidation_0-logloss:0.28959\n",
      "[785]\tvalidation_0-logloss:0.28945\n",
      "[786]\tvalidation_0-logloss:0.28943\n",
      "[787]\tvalidation_0-logloss:0.28933\n",
      "[788]\tvalidation_0-logloss:0.28928\n",
      "[789]\tvalidation_0-logloss:0.28898\n",
      "[790]\tvalidation_0-logloss:0.28889\n",
      "[791]\tvalidation_0-logloss:0.28870\n",
      "[792]\tvalidation_0-logloss:0.28857\n",
      "[793]\tvalidation_0-logloss:0.28836\n",
      "[794]\tvalidation_0-logloss:0.28832\n",
      "[795]\tvalidation_0-logloss:0.28841\n",
      "[796]\tvalidation_0-logloss:0.28815\n",
      "[797]\tvalidation_0-logloss:0.28801\n",
      "[798]\tvalidation_0-logloss:0.28791\n",
      "[799]\tvalidation_0-logloss:0.28785\n",
      "[800]\tvalidation_0-logloss:0.28784\n",
      "[801]\tvalidation_0-logloss:0.28772\n",
      "[802]\tvalidation_0-logloss:0.28764\n",
      "[803]\tvalidation_0-logloss:0.28785\n",
      "[804]\tvalidation_0-logloss:0.28764\n",
      "[805]\tvalidation_0-logloss:0.28744\n",
      "[806]\tvalidation_0-logloss:0.28712\n",
      "[807]\tvalidation_0-logloss:0.28702\n",
      "[808]\tvalidation_0-logloss:0.28697\n",
      "[809]\tvalidation_0-logloss:0.28661\n",
      "[810]\tvalidation_0-logloss:0.28649\n",
      "[811]\tvalidation_0-logloss:0.28664\n",
      "[812]\tvalidation_0-logloss:0.28631\n",
      "[813]\tvalidation_0-logloss:0.28629\n",
      "[814]\tvalidation_0-logloss:0.28587\n",
      "[815]\tvalidation_0-logloss:0.28559\n",
      "[816]\tvalidation_0-logloss:0.28533\n",
      "[817]\tvalidation_0-logloss:0.28503\n",
      "Wall time: 8.85 s\n"
     ]
    },
    {
     "data": {
      "text/plain": [
       "XGBClassifier(base_score=0.5, booster='gbtree', colsample_bylevel=1,\n",
       "              colsample_bynode=1, colsample_bytree=0.7, gamma=0, gpu_id=-1,\n",
       "              importance_type='gain', interaction_constraints='',\n",
       "              learning_rate=0.01, max_delta_step=3, max_depth=8,\n",
       "              min_child_weight=1, missing=nan, monotone_constraints='()',\n",
       "              n_estimators=818, n_jobs=8, num_parallel_tree=1, random_state=0,\n",
       "              reg_alpha=0, reg_lambda=2, scale_pos_weight=5, silent=True,\n",
       "              subsample=0.5, tree_method='exact', validate_parameters=1,\n",
       "              verbosity=None)"
      ]
     },
     "execution_count": 32,
     "metadata": {},
     "output_type": "execute_result"
    }
   ],
   "source": [
    "%time model.fit(x_test_re, y_test_re, early_stopping_rounds=50, eval_metric=eval_metric, eval_set=eval_set)"
   ]
  },
  {
   "cell_type": "markdown",
   "metadata": {},
   "source": [
    "## Model evaluation"
   ]
  },
  {
   "cell_type": "markdown",
   "metadata": {},
   "source": [
    "Checking accuracy of the model"
   ]
  },
  {
   "cell_type": "code",
   "execution_count": 34,
   "metadata": {},
   "outputs": [],
   "source": [
    "predictions = model.predict_proba(x_test_re)[:,-1]"
   ]
  },
  {
   "cell_type": "code",
   "execution_count": 35,
   "metadata": {},
   "outputs": [
    {
     "data": {
      "text/plain": [
       "0.9793582285607056"
      ]
     },
     "execution_count": 35,
     "metadata": {},
     "output_type": "execute_result"
    }
   ],
   "source": [
    "roc_auc_score(y_test_re, predictions)"
   ]
  },
  {
   "cell_type": "markdown",
   "metadata": {},
   "source": [
    "So, we are getting an accuracy of 97.9% in classifying the anomalies and normal ones correctly."
   ]
  },
  {
   "cell_type": "code",
   "execution_count": null,
   "metadata": {},
   "outputs": [],
   "source": []
  }
 ],
 "metadata": {
  "kernelspec": {
   "display_name": "Python 3",
   "language": "python",
   "name": "python3"
  },
  "language_info": {
   "codemirror_mode": {
    "name": "ipython",
    "version": 3
   },
   "file_extension": ".py",
   "mimetype": "text/x-python",
   "name": "python",
   "nbconvert_exporter": "python",
   "pygments_lexer": "ipython3",
   "version": "3.8.3"
  }
 },
 "nbformat": 4,
 "nbformat_minor": 4
}
